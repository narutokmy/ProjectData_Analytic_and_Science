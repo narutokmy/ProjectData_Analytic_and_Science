{
 "cells": [
  {
   "cell_type": "markdown",
   "id": "8131b686",
   "metadata": {},
   "source": [
    "### 1. Librerías para Regresión y Clasificación\n",
    "Scikit-learn (sklearn)\n",
    "\n",
    "    Descripción: Es la librería más utilizada para machine learning en Python. Ofrece una amplia gama de algoritmos para regresión, clasificación, clustering, preprocesamiento de datos, selección de modelos, etc.\n",
    "\n",
    "    Instalación:"
   ]
  },
  {
   "cell_type": "code",
   "execution_count": null,
   "id": "a007e9a3",
   "metadata": {},
   "outputs": [],
   "source": [
    "pip install scikit-learn"
   ]
  },
  {
   "cell_type": "markdown",
   "id": "e123e6d0",
   "metadata": {},
   "source": [
    "### Algoritmos de Regresión:\n",
    "\n",
    "    Regresión lineal (LinearRegression)\n",
    "\n",
    "    Regresión logística (LogisticRegression)\n",
    "\n",
    "    Árboles de decisión (DecisionTreeRegressor)\n",
    "\n",
    "    Random Forest (RandomForestRegressor)\n",
    "\n",
    "    Support Vector Machines (SVR)\n",
    "\n",
    "### Algoritmos de Clasificación:\n",
    "\n",
    "    Clasificación logística (LogisticRegression)\n",
    "\n",
    "    Árboles de decisión (DecisionTreeClassifier)\n",
    "\n",
    "    Random Forest (RandomForestClassifier)\n",
    "\n",
    "    Support Vector Machines (SVC)\n",
    "\n",
    "    K-Nearest Neighbors (KNeighborsClassifier)"
   ]
  },
  {
   "cell_type": "code",
   "execution_count": null,
   "id": "6a9c7d7f",
   "metadata": {},
   "outputs": [],
   "source": [
    "from sklearn.model_selection import train_test_split\n",
    "from sklearn.linear_model import LinearRegression\n",
    "from sklearn.metrics import mean_squared_error\n",
    "\n",
    "# Dividir los datos en entrenamiento y prueba\n",
    "X = df[['feature1', 'feature2']]  # Variables independientes\n",
    "y = df['target']  # Variable dependiente\n",
    "X_train, X_test, y_train, y_test = train_test_split(X, y, test_size=0.2, random_state=42)\n",
    "\n",
    "# Crear y entrenar el modelo\n",
    "model = LinearRegression()\n",
    "model.fit(X_train, y_train)\n",
    "\n",
    "# Predecir y evaluar\n",
    "y_pred = model.predict(X_test)\n",
    "print(\"Error cuadrático medio:\", mean_squared_error(y_test, y_pred))"
   ]
  },
  {
   "cell_type": "markdown",
   "id": "fa07af13",
   "metadata": {},
   "source": [
    "### Statsmodels\n",
    "\n",
    "    Descripción: Ideal para análisis estadísticos detallados, como pruebas de hipótesis, intervalos de confianza y regresiones lineales con resultados estadísticos completos.\n",
    "\n",
    "    Instalación:"
   ]
  },
  {
   "cell_type": "code",
   "execution_count": null,
   "id": "d7f28e6c",
   "metadata": {},
   "outputs": [],
   "source": [
    "pip install statsmodels"
   ]
  },
  {
   "cell_type": "markdown",
   "id": "54fcffc9",
   "metadata": {},
   "source": [
    "### Uso común:\n",
    "\n",
    "    Regresión lineal (OLS)\n",
    "\n",
    "    Regresión logística (Logit)"
   ]
  },
  {
   "cell_type": "code",
   "execution_count": null,
   "id": "7dd5c32f",
   "metadata": {},
   "outputs": [],
   "source": [
    "import statsmodels.api as sm\n",
    "\n",
    "# Añadir una constante (intercepto)\n",
    "X = sm.add_constant(df[['feature1', 'feature2']])\n",
    "y = df['target']\n",
    "\n",
    "# Ajustar el modelo\n",
    "model = sm.OLS(y, X).fit()\n",
    "\n",
    "# Resumen del modelo\n",
    "print(model.summary())"
   ]
  },
  {
   "cell_type": "markdown",
   "id": "e2a2d19b",
   "metadata": {},
   "source": [
    "### XGBoost\n",
    "\n",
    "    Descripción: Una librería optimizada para gradient boosting, muy popular en competencias de machine learning por su alto rendimiento.\n",
    "\n",
    "    Instalación:"
   ]
  },
  {
   "cell_type": "code",
   "execution_count": null,
   "id": "9a1fe095",
   "metadata": {},
   "outputs": [],
   "source": [
    "pip install xgboost"
   ]
  },
  {
   "cell_type": "markdown",
   "id": "90e1205b",
   "metadata": {},
   "source": [
    "#### Uso común:\n",
    "\n",
    "    Regresión (XGBRegressor)\n",
    "\n",
    "    Clasificación (XGBClassifier)"
   ]
  },
  {
   "cell_type": "code",
   "execution_count": null,
   "id": "5fb04881",
   "metadata": {},
   "outputs": [],
   "source": [
    "from xgboost import XGBRegressor\n",
    "\n",
    "model = XGBRegressor()\n",
    "model.fit(X_train, y_train)\n",
    "\n",
    "y_pred = model.predict(X_test)\n",
    "print(\"Error cuadrático medio:\", mean_squared_error(y_test, y_pred))"
   ]
  },
  {
   "cell_type": "markdown",
   "id": "f0b96602",
   "metadata": {},
   "source": [
    "### LightGBM\n",
    "\n",
    "    Descripción: Otra librería de gradient boosting, más rápida y eficiente en memoria que XGBoost, especialmente para grandes conjuntos de datos.\n",
    "\n",
    "    Instalación:"
   ]
  },
  {
   "cell_type": "code",
   "execution_count": null,
   "id": "bbaee36e",
   "metadata": {},
   "outputs": [],
   "source": [
    "pip install lightgbm"
   ]
  },
  {
   "cell_type": "markdown",
   "id": "fc26fa28",
   "metadata": {},
   "source": [
    "### Uso común:\n",
    "\n",
    "    Regresión (LGBMRegressor)\n",
    "\n",
    "    Clasificación (LGBMClassifier)"
   ]
  },
  {
   "cell_type": "code",
   "execution_count": null,
   "id": "c6dab7b7",
   "metadata": {},
   "outputs": [],
   "source": [
    "from lightgbm import LGBMRegressor\n",
    "\n",
    "model = LGBMRegressor()\n",
    "model.fit(X_train, y_train)\n",
    "\n",
    "y_pred = model.predict(X_test)\n",
    "print(\"Error cuadrático medio:\", mean_squared_error(y_test, y_pred))"
   ]
  },
  {
   "cell_type": "markdown",
   "id": "b4f89cb3",
   "metadata": {},
   "source": [
    "### TensorFlow / Keras\n",
    "\n",
    "    Descripción: Ideal para modelos de deep learning, como redes neuronales, aunque también se puede usar para regresión y clasificación tradicional.\n",
    "\n",
    "    Instalación:"
   ]
  },
  {
   "cell_type": "code",
   "execution_count": null,
   "id": "976a8ce5",
   "metadata": {},
   "outputs": [],
   "source": [
    "pip install tensorflow"
   ]
  },
  {
   "cell_type": "markdown",
   "id": "feed482a",
   "metadata": {},
   "source": [
    "#### Uso común:\n",
    "\n",
    "    Redes neuronales para regresión y clasificación."
   ]
  },
  {
   "cell_type": "code",
   "execution_count": null,
   "id": "8101a7c2",
   "metadata": {},
   "outputs": [],
   "source": [
    "from tensorflow.keras.models import Sequential\n",
    "from tensorflow.keras.layers import Dense\n",
    "\n",
    "model = Sequential()\n",
    "model.add(Dense(10, input_dim=X_train.shape[1], activation='relu'))\n",
    "model.add(Dense(1, activation='linear'))  # Para regresión\n",
    "\n",
    "model.compile(optimizer='adam', loss='mse')\n",
    "model.fit(X_train, y_train, epochs=50, batch_size=32)\n",
    "\n",
    "y_pred = model.predict(X_test)"
   ]
  },
  {
   "cell_type": "markdown",
   "id": "8322018e",
   "metadata": {},
   "source": [
    "### CatBoost\n",
    "\n",
    "    Descripción: Una librería de gradient boosting diseñada para manejar datos categóricos de manera eficiente.\n",
    "\n",
    "    Instalación:"
   ]
  },
  {
   "cell_type": "code",
   "execution_count": null,
   "id": "c80212d6",
   "metadata": {},
   "outputs": [],
   "source": [
    "pip install catboost"
   ]
  },
  {
   "cell_type": "markdown",
   "id": "e728fcff",
   "metadata": {},
   "source": [
    "#### Uso común:\n",
    "\n",
    "    Regresión (CatBoostRegressor)\n",
    "\n",
    "    Clasificación (CatBoostClassifier)"
   ]
  },
  {
   "cell_type": "code",
   "execution_count": null,
   "id": "3a5be697",
   "metadata": {},
   "outputs": [],
   "source": [
    "from catboost import CatBoostRegressor\n",
    "\n",
    "model = CatBoostRegressor()\n",
    "model.fit(X_train, y_train)\n",
    "\n",
    "y_pred = model.predict(X_test)\n",
    "print(\"Error cuadrático medio:\", mean_squared_error(y_test, y_pred))"
   ]
  },
  {
   "cell_type": "markdown",
   "id": "f1ce6b57",
   "metadata": {},
   "source": [
    "## 2. Librerías para Evaluación y Visualización\n",
    "Matplotlib y Seaborn\n",
    "\n",
    "    Descripción: Para visualizar los resultados de tus modelos (gráficos de regresión, matrices de confusión, etc.).\n",
    "\n",
    "    Instalación:"
   ]
  },
  {
   "cell_type": "code",
   "execution_count": null,
   "id": "6118a298",
   "metadata": {},
   "outputs": [],
   "source": [
    "pip install matplotlib seaborn"
   ]
  },
  {
   "cell_type": "markdown",
   "id": "aa071923",
   "metadata": {},
   "source": [
    "### Scikit-learn (Métricas de Evaluación)\n",
    "\n",
    "    Descripción: Proporciona funciones para evaluar modelos, como accuracy_score, mean_squared_error, confusion_matrix, etc.\n",
    "\n",
    "    Ejemplo:"
   ]
  },
  {
   "cell_type": "code",
   "execution_count": null,
   "id": "a23181d6",
   "metadata": {},
   "outputs": [],
   "source": [
    "from sklearn.metrics import accuracy_score, confusion_matrix\n",
    "\n",
    "# Para clasificación\n",
    "print(\"Precisión:\", accuracy_score(y_test, y_pred))\n",
    "print(\"Matriz de confusión:\", confusion_matrix(y_test, y_pred))"
   ]
  },
  {
   "cell_type": "markdown",
   "id": "16fe1f8e",
   "metadata": {},
   "source": [
    "Observación\n",
    "### Resumen de Recomendaciones\n",
    "\n",
    "    Para empezar: Usa Scikit-learn por su facilidad de uso y amplia documentación.\n",
    "\n",
    "    Para modelos avanzados: Prueba XGBoost, LightGBM o CatBoost.\n",
    "\n",
    "    Para análisis estadísticos detallados: Usa Statsmodels.\n",
    "\n",
    "    Para deep learning: Usa TensorFlow/Keras."
   ]
  }
 ],
 "metadata": {
  "kernelspec": {
   "display_name": "Python3(Dataproject)",
   "language": "python",
   "name": "dataprojec"
  },
  "language_info": {
   "codemirror_mode": {
    "name": "ipython",
    "version": 3
   },
   "file_extension": ".py",
   "mimetype": "text/x-python",
   "name": "python",
   "nbconvert_exporter": "python",
   "pygments_lexer": "ipython3",
   "version": "3.12.3"
  }
 },
 "nbformat": 4,
 "nbformat_minor": 5
}
