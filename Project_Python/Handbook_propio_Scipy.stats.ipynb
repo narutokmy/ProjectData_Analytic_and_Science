{
 "cells": [
  {
   "cell_type": "markdown",
   "id": "4bd9321b",
   "metadata": {},
   "source": [
    "## Resumen de pruebas estadisticas con Python\n",
    "\n",
    "### Pruebas Estadísticas en scipy.stats\n",
    "1. Pruebas de Comparación de Medias\n",
    "\n",
    "    Prueba t de Student para muestras independientes:\n",
    "    Compara las medias de dos grupos independientes."
   ]
  },
  {
   "cell_type": "code",
   "execution_count": null,
   "id": "1be8425a",
   "metadata": {},
   "outputs": [],
   "source": [
    "from scipy.stats import ttest_ind\n",
    "t_stat, p_value = ttest_ind(grupo_after, grupo_before)"
   ]
  },
  {
   "cell_type": "markdown",
   "id": "4522c462",
   "metadata": {},
   "source": [
    "### Prueba t de Student para muestras pareadas:\n",
    "Compara las medias de dos grupos relacionados (por ejemplo, antes y después en los mismos individuos)."
   ]
  },
  {
   "cell_type": "code",
   "execution_count": null,
   "id": "bac362c0",
   "metadata": {},
   "outputs": [],
   "source": [
    "from scipy.stats import ttest_rel\n",
    "t_stat, p_value = ttest_rel(grupo_after, grupo_before)"
   ]
  },
  {
   "cell_type": "markdown",
   "id": "e8d65239",
   "metadata": {},
   "source": [
    "### Prueba t de una muestra:\n",
    "Compara la media de un grupo con un valor teórico."
   ]
  },
  {
   "cell_type": "code",
   "execution_count": null,
   "id": "4667225e",
   "metadata": {},
   "outputs": [],
   "source": [
    "from scipy.stats import ttest_1samp\n",
    "t_stat, p_value = ttest_1samp(grupo_after, valor_teorico)"
   ]
  },
  {
   "cell_type": "markdown",
   "id": "37721560",
   "metadata": {},
   "source": [
    "### 2. Pruebas de Normalidad\n",
    "\n",
    "    Prueba de Shapiro-Wilk:\n",
    "    Evalúa si una muestra proviene de una distribución normal."
   ]
  },
  {
   "cell_type": "code",
   "execution_count": null,
   "id": "c7a45da7",
   "metadata": {},
   "outputs": [],
   "source": [
    "from scipy.stats import shapiro\n",
    "stat, p_value = shapiro(datos)"
   ]
  },
  {
   "cell_type": "markdown",
   "id": "3821ade8",
   "metadata": {},
   "source": [
    "#### Prueba de Kolmogorov-Smirnov:\n",
    "Compara una muestra con una distribución de referencia (normal u otra)."
   ]
  },
  {
   "cell_type": "code",
   "execution_count": null,
   "id": "2c67fa57",
   "metadata": {},
   "outputs": [],
   "source": [
    "from scipy.stats import kstest\n",
    "stat, p_value = kstest(datos, 'norm')"
   ]
  },
  {
   "cell_type": "markdown",
   "id": "f49394ac",
   "metadata": {},
   "source": [
    "### 3. Pruebas de Varianza\n",
    "\n",
    "    Prueba de Levene:\n",
    "    Evalúa si dos o más grupos tienen varianzas iguales."
   ]
  },
  {
   "cell_type": "code",
   "execution_count": null,
   "id": "58947f65",
   "metadata": {},
   "outputs": [],
   "source": [
    "from scipy.stats import levene\n",
    "stat, p_value = levene(grupo1, grupo2, grupo3)"
   ]
  },
  {
   "cell_type": "markdown",
   "id": "2bfbab23",
   "metadata": {},
   "source": [
    "#### Prueba de Bartlett:\n",
    "Similar a Levene, pero más sensible a desviaciones de la normalidad."
   ]
  },
  {
   "cell_type": "code",
   "execution_count": null,
   "id": "318d78eb",
   "metadata": {},
   "outputs": [],
   "source": [
    "from scipy.stats import bartlett\n",
    "stat, p_value = bartlett(grupo1, grupo2, grupo3)"
   ]
  },
  {
   "cell_type": "markdown",
   "id": "f43629ba",
   "metadata": {},
   "source": [
    "### 4. Pruebas No Paramétricas\n",
    "\n",
    "   #### Prueba de Mann-Whitney U:\n",
    "    Compara dos grupos independientes cuando no se cumple la normalidad."
   ]
  },
  {
   "cell_type": "code",
   "execution_count": null,
   "id": "550a8b20",
   "metadata": {},
   "outputs": [],
   "source": [
    "from scipy.stats import mannwhitneyu\n",
    "stat, p_value = mannwhitneyu(grupo_after, grupo_before)"
   ]
  },
  {
   "cell_type": "markdown",
   "id": "08ebabc9",
   "metadata": {},
   "source": [
    "#### Prueba de Wilcoxon:\n",
    "Compara dos grupos relacionados (no paramétrico equivalente a la prueba t pareada)."
   ]
  },
  {
   "cell_type": "code",
   "execution_count": null,
   "id": "a5b463ce",
   "metadata": {},
   "outputs": [],
   "source": [
    "from scipy.stats import wilcoxon\n",
    "stat, p_value = wilcoxon(grupo_after, grupo_before)"
   ]
  },
  {
   "cell_type": "markdown",
   "id": "7733c721",
   "metadata": {},
   "source": [
    "#### Prueba de Kruskal-Wallis:\n",
    "Compara más de dos grupos independientes (no paramétrico equivalente al ANOVA)."
   ]
  },
  {
   "cell_type": "code",
   "execution_count": null,
   "id": "7dcdffdd",
   "metadata": {},
   "outputs": [],
   "source": [
    "from scipy.stats import kruskal\n",
    "stat, p_value = kruskal(grupo1, grupo2, grupo3)"
   ]
  },
  {
   "cell_type": "markdown",
   "id": "565c9dd9",
   "metadata": {},
   "source": [
    "### 5. Pruebas de Correlación\n",
    "\n",
    "   #### Coeficiente de Pearson:\n",
    "    Mide la correlación lineal entre dos variables."
   ]
  },
  {
   "cell_type": "code",
   "execution_count": null,
   "id": "286cefad",
   "metadata": {},
   "outputs": [],
   "source": [
    "from scipy.stats import pearsonr\n",
    "corr, p_value = pearsonr(variable1, variable2)"
   ]
  },
  {
   "cell_type": "markdown",
   "id": "1c44f99b",
   "metadata": {},
   "source": [
    "#### Coeficiente de Spearman:\n",
    "Mide la correlación monotónica (no lineal) entre dos variables."
   ]
  },
  {
   "cell_type": "code",
   "execution_count": null,
   "id": "523ab842",
   "metadata": {},
   "outputs": [],
   "source": [
    "from scipy.stats import spearmanr\n",
    "corr, p_value = spearmanr(variable1, variable2)"
   ]
  },
  {
   "cell_type": "markdown",
   "id": "767b7727",
   "metadata": {},
   "source": [
    "#### Coeficiente de Kendall Tau:\n",
    "Similar a Spearman, pero más robusto para tamaños de muestra pequeños."
   ]
  },
  {
   "cell_type": "code",
   "execution_count": null,
   "id": "9dab2f7b",
   "metadata": {},
   "outputs": [],
   "source": [
    "from scipy.stats import kendalltau\n",
    "corr, p_value = kendalltau(variable1, variable2)"
   ]
  },
  {
   "cell_type": "markdown",
   "id": "df0b5d2e",
   "metadata": {},
   "source": [
    "### 6. Pruebas de Independencia\n",
    "\n",
    "    Prueba Chi-Cuadrado:\n",
    "    Evalúa la independencia entre dos variables categóricas."
   ]
  },
  {
   "cell_type": "code",
   "execution_count": null,
   "id": "dd5fd6dc",
   "metadata": {},
   "outputs": [],
   "source": [
    "    from scipy.stats import chi2_contingency\n",
    "    chi2, p_value, dof, expected = chi2_contingency(tabla_contingencia)\n",
    "\n"
   ]
  },
  {
   "cell_type": "markdown",
   "id": "1174e266",
   "metadata": {},
   "source": [
    "### 7. Análisis de Varianza (ANOVA)\n",
    "\n",
    "    ANOVA de una vía:\n",
    "    Compara las medias de más de dos grupos."
   ]
  },
  {
   "cell_type": "code",
   "execution_count": null,
   "id": "655ff60f",
   "metadata": {},
   "outputs": [],
   "source": [
    "from scipy.stats import f_oneway\n",
    "f_stat, p_value = f_oneway(grupo1, grupo2, grupo3)"
   ]
  },
  {
   "cell_type": "markdown",
   "id": "57141e63",
   "metadata": {},
   "source": [
    "### 8. Pruebas de Bondad de Ajuste\n",
    "\n",
    "    Prueba de Chi-Cuadrado de bondad de ajuste:\n",
    "    Evalúa si una muestra se ajusta a una distribución teórica."
   ]
  },
  {
   "cell_type": "code",
   "execution_count": null,
   "id": "ab0ecf2e",
   "metadata": {},
   "outputs": [],
   "source": [
    "from scipy.stats import chisquare\n",
    "chi2, p_value = chisquare(frec_observada, f_exp=frec_esperada)"
   ]
  },
  {
   "cell_type": "markdown",
   "id": "74187edb",
   "metadata": {},
   "source": [
    "### 9. Otras Pruebas Útiles\n",
    "\n",
    "    Prueba de Friedman:\n",
    "    Compara más de dos grupos relacionados (no paramétrico)."
   ]
  },
  {
   "cell_type": "code",
   "execution_count": null,
   "id": "19d59bae",
   "metadata": {},
   "outputs": [],
   "source": [
    "from scipy.stats import friedmanchisquare\n",
    "stat, p_value = friedmanchisquare(grupo1, grupo2, grupo3)"
   ]
  },
  {
   "cell_type": "markdown",
   "id": "2afc07a3",
   "metadata": {},
   "source": [
    "#### Prueba de Anderson-Darling:\n",
    "Evalúa si una muestra proviene de una distribución específica."
   ]
  },
  {
   "cell_type": "code",
   "execution_count": null,
   "id": "030f2a30",
   "metadata": {},
   "outputs": [],
   "source": [
    "from scipy.stats import anderson\n",
    "result = anderson(datos, dist='norm')"
   ]
  },
  {
   "cell_type": "markdown",
   "id": "5e46657b",
   "metadata": {},
   "source": [
    "## Ejemplo de Flujo de Trabajo para A/B Testing\n",
    "\n",
    "   #### Verificar Normalidad:\n",
    "    Usa Shapiro-Wilk o Kolmogorov-Smirnov para ver si los datos son normales."
   ]
  },
  {
   "cell_type": "code",
   "execution_count": null,
   "id": "5a41fa2d",
   "metadata": {},
   "outputs": [],
   "source": [
    "stat, p_value = shapiro(grupo_after)"
   ]
  },
  {
   "cell_type": "markdown",
   "id": "a6b79d52",
   "metadata": {},
   "source": [
    "#### Comparar Medias:\n",
    "Si los datos son normales, usa una prueba t de Student. Si no, usa Mann-Whitney U."
   ]
  },
  {
   "cell_type": "code",
   "execution_count": null,
   "id": "8963a085",
   "metadata": {},
   "outputs": [],
   "source": [
    "t_stat, p_value = ttest_ind(grupo_after, grupo_before)"
   ]
  },
  {
   "cell_type": "markdown",
   "id": "527cd907",
   "metadata": {},
   "source": [
    "#### Verificar Varianzas:\n",
    "Si usas una prueba t, verifica homogeneidad de varianzas con Levene o Bartlett."
   ]
  },
  {
   "cell_type": "code",
   "execution_count": null,
   "id": "60fef0c5",
   "metadata": {},
   "outputs": [],
   "source": [
    "stat, p_value = levene(grupo_after, grupo_before)"
   ]
  },
  {
   "cell_type": "markdown",
   "id": "1376f49f",
   "metadata": {},
   "source": [
    "#### Interpretar Resultados:\n",
    "Si el valor p es menor que el nivel de significancia (por ejemplo, 0.05), rechazas la hipótesis nula."
   ]
  }
 ],
 "metadata": {
  "kernelspec": {
   "display_name": "Python3(Dataproject)",
   "language": "python",
   "name": "dataprojec"
  },
  "language_info": {
   "codemirror_mode": {
    "name": "ipython",
    "version": 3
   },
   "file_extension": ".py",
   "mimetype": "text/x-python",
   "name": "python",
   "nbconvert_exporter": "python",
   "pygments_lexer": "ipython3",
   "version": "3.12.3"
  }
 },
 "nbformat": 4,
 "nbformat_minor": 5
}
