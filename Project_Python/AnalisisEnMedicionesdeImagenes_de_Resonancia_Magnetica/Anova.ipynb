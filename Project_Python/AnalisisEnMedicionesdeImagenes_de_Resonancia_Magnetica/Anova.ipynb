{
 "cells": [
  {
   "cell_type": "code",
   "execution_count": 1,
   "id": "74240ab3",
   "metadata": {},
   "outputs": [],
   "source": [
    "#libreria utiles \n",
    "import pandas as pd\n",
    "import numpy as np\n",
    "from scipy import stats\n",
    "from matplotlib import pyplot as plt"
   ]
  },
  {
   "cell_type": "markdown",
   "id": "82f59ef0",
   "metadata": {},
   "source": [
    "## Organizar el DataFrame para hacer los analisis de varianza "
   ]
  },
  {
   "cell_type": "code",
   "execution_count": 2,
   "id": "54d11f7b",
   "metadata": {},
   "outputs": [],
   "source": [
    "# Cargar el archivo Excel\n",
    "SCA = pd.read_excel(\"/home/camilo/Documentos/Doctorado en Matemática/TrabajoCruzCarreto/ArticuloMultinomialSCA2/Base de datos COMPLETA 230822.xls\", sheet_name = \"GRUPO ENFERMOS\")\n",
    "Control = pd.read_excel(\"/home/camilo/Documentos/Doctorado en Matemática/TrabajoCruzCarreto/ArticuloMultinomialSCA2/Base de datos COMPLETA 230822.xls\", sheet_name = \"Grupo de Control\")\n",
    "Preclinics = pd.read_excel(\"/home/camilo/Documentos/Doctorado en Matemática/TrabajoCruzCarreto/ArticuloMultinomialSCA2/Base de datos COMPLETA 230822.xls\", sheet_name = \"GRUPO PRECLINICOS\")"
   ]
  },
  {
   "cell_type": "code",
   "execution_count": 3,
   "id": "c60714a2",
   "metadata": {},
   "outputs": [],
   "source": [
    "#Preprosesamiento\n",
    "# Crear una nueva columna 'padecimiento' con el valor \"E\" repetido para todas las filas\n",
    "SCA['padecimiento'] = np.repeat(\"E\", SCA.shape[0])\n",
    "Control['padecimiento'] = np.repeat(\"C\", Control.shape[0])\n",
    "Preclinics['padecimiento'] = np.repeat(\"P\", Preclinics.shape[0])"
   ]
  },
  {
   "cell_type": "code",
   "execution_count": 4,
   "id": "6a75ca2f",
   "metadata": {},
   "outputs": [],
   "source": [
    "# Filtrar el DataFrame SCA donde las columnas 'DAPMES', 'Columna2', 'Columna3' no tengan valores nulos\n",
    "SCA_l = SCA.dropna(subset=['DAPMES', 'DAPP', 'DAPM', 'DAPCM', 'DAPIV', 'DAP' ])\n",
    "\n",
    "# Filtrar el DataFrame Control donde las columnas 'DAPMES', 'Columna2', 'Columna3' no tengan valores nulos\n",
    "Control_l = Control.dropna(subset=['DAPMES', 'DAPP', 'DAPM', 'DAPCM', 'DAPIV', 'DAP' ])\n",
    "\n",
    "# Filtrar el DataFrame Preclinicos donde las columnas 'DAPMES', 'Columna2', 'Columna3' no tengan valores nulos\n",
    "Preclinics_l = Preclinics.dropna(subset=['DAPMES', 'DAPP', 'DAPM', 'DAPCM', 'DAPIV', 'DAP' ])"
   ]
  },
  {
   "cell_type": "code",
   "execution_count": 5,
   "id": "3beb1f53",
   "metadata": {},
   "outputs": [],
   "source": [
    "# Crear una lista de IDs en tu DataFrame SCA_l\n",
    "id_SCA_l = np.arange(len(SCA_l))\n",
    "\n",
    "# Seleccionar 13 IDs aleatorios sin reemplazo\n",
    "ID_test = np.random.choice(id_SCA_l, 13, replace=False)\n",
    "\n",
    "# Crear el conjunto de prueba utilizando los IDs seleccionados\n",
    "SCA_l_test = SCA_l.iloc[ID_test]\n",
    "\n",
    "# Crear el conjunto de entrenamiento excluyendo los índices seleccionados\n",
    "SCA_l_train = SCA_l.drop(SCA_l.index[ID_test])\n",
    "\n",
    "# Crear una lista de IDs en tu DataFrame Control_l\n",
    "id_Control_l = np.arange(len(Control_l))\n",
    "\n",
    "# Seleccionar 14 IDs aleatorios sin reemplazo\n",
    "ID_test = np.random.choice(id_Control_l, 14, replace=False)\n",
    "\n",
    "# Crear el conjunto de prueba utilizando los IDs seleccionados\n",
    "Control_l_test = Control_l.iloc[ID_test]\n",
    "\n",
    "# Crear el conjunto de entrenamiento excluyendo los índices seleccionados\n",
    "Control_l_train = Control_l.drop(Control_l.index[ID_test])\n",
    "\n",
    "# Crear una lista de IDs en tu DataFrame Control_l\n",
    "id_Preclinics_l = np.arange(len(Preclinics_l))\n",
    "\n",
    "# Seleccionar 14 IDs aleatorios sin reemplazo\n",
    "ID_test = np.random.choice(id_Preclinics_l, 4, replace=False)\n",
    "\n",
    "# Crear el conjunto de prueba utilizando los IDs seleccionados\n",
    "Preclinics_l_test = Preclinics_l.iloc[ID_test]\n",
    "\n",
    "# Crear el conjunto de entrenamiento excluyendo los índices seleccionados\n",
    "Preclinics_l_train = Preclinics_l.drop(Preclinics_l.index[ID_test])"
   ]
  },
  {
   "cell_type": "code",
   "execution_count": 48,
   "id": "437fab23",
   "metadata": {},
   "outputs": [
    {
     "name": "stdout",
     "output_type": "stream",
     "text": [
      "Conjunto de entrenamiento combinado:\n",
      "              No  Nombres y Apellidos / IRM No? Sexo  Edad Edad.1 Tiempo  \\\n",
      "0    IIRM22-1693                            NaN    M  35.0    NaN    NaN   \n",
      "1     IRM21-1598                            NaN    F  32.0    NaN    NaN   \n",
      "2     IRM21-1777             GOMEZ FONT^DANIEL^    M  45.0     41      4   \n",
      "3     IRM21-1840  GONZALEZ HECHAVARRIA^IDALMIS^    F  58.0     34     24   \n",
      "4     IRM21-1859         MARTIN INFANTE^MIRTHA^    F  70.0     60     10   \n",
      "..           ...                            ...  ...   ...    ...    ...   \n",
      "118    IRM22-872                            NaN    F  50.0    NaN    NaN   \n",
      "119    IRM22-890     PEREZ HECHEVARRIA^NERIO^^^    M  70.0     45     25   \n",
      "120    IRM22-944      OSORIO RAMIREZ^MAGDIEL^^^    M  25.0     17      8   \n",
      "121    IRM22-946       RIVAS MEDINA^LOURDES ^^^    F  47.0     43      4   \n",
      "122     IRM22-95           NORAIDA SOLIS GARCIA    F  43.0     42      1   \n",
      "\n",
      "                 SARA                                Fenotipo  DAPMES   DAPP  \\\n",
      "0                 NaN                                     NaN   19.10  23.93   \n",
      "1                 NaN                                     NaN   19.17  24.36   \n",
      "2      Estadio ligero                        Sínd. Cerebeloso   15.74  15.38   \n",
      "3    Estadio Moderado  Sínd. Cerebeloso, Neuropatía, MOS enl.   17.97  16.24   \n",
      "4      Estadio Ligero            Sínd. Cerebeloso, Neuropatía   17.20  21.56   \n",
      "..                ...                                     ...     ...    ...   \n",
      "118               NaN                                     NaN   17.69  19.30   \n",
      "119    Estadio Ligero                           Parkinsonismo   14.96  15.37   \n",
      "120  Estadio Moderado            Sínd. Cerebeloso, Neuropatía   16.22  15.71   \n",
      "121    Estadio Ligero                        Sínd. Cerebeloso   15.92  17.80   \n",
      "122    Estadio Ligero                           Parkinsonismo   15.45  20.25   \n",
      "\n",
      "     ...    VIV    DAP      H  CAG Rango Alelo 1  CAG Rango Alelo 2  \\\n",
      "0    ...   1746  33.59  55.74                NaN                NaN   \n",
      "1    ...   2609  28.92  52.56                NaN                NaN   \n",
      "2    ...   6809  24.81  42.87          22 aprox.       36-40 aprox.   \n",
      "3    ...   2378  27.78  45.28                NaN                NaN   \n",
      "4    ...    978  27.46  45.51                 22                 34   \n",
      "..   ...    ...    ...    ...                ...                ...   \n",
      "118  ...   1817  28.24     51                NaN                NaN   \n",
      "119  ...   1648  24.07  36.22                NaN                NaN   \n",
      "120  ...   6644  20.74  51.89                 23                 44   \n",
      "121  ...   2981  29.31  43.82                NaN                NaN   \n",
      "122  ...  29.56  33.37  54.03       33-37 aprox.       33-37 aprox.   \n",
      "\n",
      "     Unnamed: 21 padecimiento           Nombre y apellidos CAG alelo 1  \\\n",
      "0            NaN            C        ORLEAN^MORENO PEREDA^         NaN   \n",
      "1            NaN            C       Yisel Castillo Batista         NaN   \n",
      "2            NaN            E                          NaN         NaN   \n",
      "3            NaN            E                          NaN         NaN   \n",
      "4            NaN            E                          NaN         NaN   \n",
      "..           ...          ...                          ...         ...   \n",
      "118          NaN            P  VERDECIA CABALLERO^VICTORIA          22   \n",
      "119          NaN            E                          NaN         NaN   \n",
      "120          NaN            E                          NaN         NaN   \n",
      "121          NaN            E                          NaN         NaN   \n",
      "122          NaN            E                          NaN         NaN   \n",
      "\n",
      "    CAG alelo 2  \n",
      "0           NaN  \n",
      "1           NaN  \n",
      "2           NaN  \n",
      "3           NaN  \n",
      "4           NaN  \n",
      "..          ...  \n",
      "118          35  \n",
      "119         NaN  \n",
      "120         NaN  \n",
      "121         NaN  \n",
      "122         NaN  \n",
      "\n",
      "[123 rows x 26 columns]\n"
     ]
    }
   ],
   "source": [
    "# Y los DataFrames correspondientes para test: SCA_l_test, Preclinicos_l_test, Control_l_test\n",
    "\n",
    "# Merge para el conjunto de entrenamiento\n",
    "dataset_train = pd.merge(SCA_l_train, Preclinics_l_train, how='outer')\n",
    "dataset_train = pd.merge(dataset_train, Control_l_train, how='outer')\n",
    "\n",
    "# Mostrar el conjunto de entrenamiento combinado\n",
    "print(\"Conjunto de entrenamiento combinado:\")\n",
    "print(dataset_train)\n",
    "\n",
    "# Merge para el conjunto de prueba\n",
    "dataset_test = pd.merge(SCA_l_test, Preclinics_l_test, how='outer')\n",
    "dataset_test = pd.merge(dataset_test, Control_l_test, how='outer')\n",
    "\n",
    "dataset_full = pd.merge(dataset_train, dataset_test, how='outer')"
   ]
  },
  {
   "cell_type": "code",
   "execution_count": 7,
   "id": "a2e30e52",
   "metadata": {},
   "outputs": [
    {
     "name": "stdout",
     "output_type": "stream",
     "text": [
      "              No  Nombres y Apellidos / IRM No? Sexo  Edad Edad.1 Tiempo  \\\n",
      "0    IIRM22-1693                            NaN    M  35.0    NaN    NaN   \n",
      "1     IRM21-1598                            NaN    F  32.0    NaN    NaN   \n",
      "2     IRM21-1777             GOMEZ FONT^DANIEL^    M  45.0     41      4   \n",
      "3     IRM21-1840  GONZALEZ HECHAVARRIA^IDALMIS^    F  58.0     34     24   \n",
      "4     IRM21-1859         MARTIN INFANTE^MIRTHA^    F  70.0     60     10   \n",
      "..           ...                            ...  ...   ...    ...    ...   \n",
      "149    IRM22-944      OSORIO RAMIREZ^MAGDIEL^^^    M  25.0     17      8   \n",
      "150    IRM22-945       BRUSETAS RIVAS^GLADIS^^^    F  62.0     47     15   \n",
      "151    IRM22-946       RIVAS MEDINA^LOURDES ^^^    F  47.0     43      4   \n",
      "152     IRM22-95           NORAIDA SOLIS GARCIA    F  43.0     42      1   \n",
      "153    IRM22-980         MORENO TORRES^PEDRO^^^    M  64.0     58      8   \n",
      "\n",
      "                 SARA                                Fenotipo  DAPMES   DAPP  \\\n",
      "0                 NaN                                     NaN   19.10  23.93   \n",
      "1                 NaN                                     NaN   19.17  24.36   \n",
      "2      Estadio ligero                        Sínd. Cerebeloso   15.74  15.38   \n",
      "3    Estadio Moderado  Sínd. Cerebeloso, Neuropatía, MOS enl.   17.97  16.24   \n",
      "4      Estadio Ligero            Sínd. Cerebeloso, Neuropatía   17.20  21.56   \n",
      "..                ...                                     ...     ...    ...   \n",
      "149  Estadio Moderado            Sínd. Cerebeloso, Neuropatía   16.22  15.71   \n",
      "150    Estadio Ligero                        Sínd. Cerebeloso   15.42  18.44   \n",
      "151    Estadio Ligero                        Sínd. Cerebeloso   15.92  17.80   \n",
      "152    Estadio Ligero                           Parkinsonismo   15.45  20.25   \n",
      "153  Estadio Moderado  Sínd. Cerebeloso, Neuropatía, MOS enl.   15.57  14.51   \n",
      "\n",
      "     ...    VIV    DAP      H  CAG Rango Alelo 1  CAG Rango Alelo 2  \\\n",
      "0    ...   1746  33.59  55.74                NaN                NaN   \n",
      "1    ...   2609  28.92  52.56                NaN                NaN   \n",
      "2    ...   6809  24.81  42.87          22 aprox.       36-40 aprox.   \n",
      "3    ...   2378  27.78  45.28                NaN                NaN   \n",
      "4    ...    978  27.46  45.51                 22                 34   \n",
      "..   ...    ...    ...    ...                ...                ...   \n",
      "149  ...   6644  20.74  51.89                 23                 44   \n",
      "150  ...   1697  31.88  45.53                 22                 34   \n",
      "151  ...   2981  29.31  43.82                NaN                NaN   \n",
      "152  ...  29.56  33.37  54.03       33-37 aprox.       33-37 aprox.   \n",
      "153  ...   5041  20.47   37.3                 21                 37   \n",
      "\n",
      "     Unnamed: 21 padecimiento      Nombre y apellidos CAG alelo 1 CAG alelo 2  \n",
      "0            NaN            C   ORLEAN^MORENO PEREDA^         NaN         NaN  \n",
      "1            NaN            C  Yisel Castillo Batista         NaN         NaN  \n",
      "2            NaN            E                     NaN         NaN         NaN  \n",
      "3            NaN            E                     NaN         NaN         NaN  \n",
      "4            NaN            E                     NaN         NaN         NaN  \n",
      "..           ...          ...                     ...         ...         ...  \n",
      "149          NaN            E                     NaN         NaN         NaN  \n",
      "150          NaN            E                     NaN         NaN         NaN  \n",
      "151          NaN            E                     NaN         NaN         NaN  \n",
      "152          NaN            E                     NaN         NaN         NaN  \n",
      "153          NaN            E                     NaN         NaN         NaN  \n",
      "\n",
      "[154 rows x 26 columns]\n"
     ]
    }
   ],
   "source": [
    "print(dataset_full)"
   ]
  },
  {
   "cell_type": "code",
   "execution_count": 9,
   "id": "8d9ad192",
   "metadata": {},
   "outputs": [
    {
     "name": "stdout",
     "output_type": "stream",
     "text": [
      "     Edad Sexo  DAPMES   DAPP  DAPM  DAPCM padecimiento\n",
      "0    35.0    M   19.10  23.93  6.72  11.81            C\n",
      "1    32.0    F   19.17  24.36  7.70  12.55            C\n",
      "2    45.0    M   15.74  15.38  6.09  12.64            E\n",
      "3    58.0    F   17.97  16.24  5.80  11.59            E\n",
      "4    70.0    F   17.20  21.56  6.28  12.12            E\n",
      "..    ...  ...     ...    ...   ...    ...          ...\n",
      "149  25.0    M   16.22  15.71  5.31  11.14            E\n",
      "150  62.0    F   15.42  18.44  5.32  13.32            E\n",
      "151  47.0    F   15.92  17.80  4.85   8.70            E\n",
      "152  43.0    F   15.45  20.25  5.99  10.86            E\n",
      "153  64.0    M   15.57  14.51  6.35   9.84            E\n",
      "\n",
      "[154 rows x 7 columns]\n"
     ]
    }
   ],
   "source": [
    "dataset_full=dataset_full[['Edad','Sexo','DAPMES','DAPP','DAPM','DAPCM','padecimiento']]\n",
    "print(dataset_full)"
   ]
  },
  {
   "cell_type": "code",
   "execution_count": 10,
   "id": "97b0fb2d",
   "metadata": {},
   "outputs": [
    {
     "data": {
      "text/plain": [
       "Edad            2\n",
       "Sexo            0\n",
       "DAPMES          0\n",
       "DAPP            0\n",
       "DAPM            0\n",
       "DAPCM           0\n",
       "padecimiento    0\n",
       "dtype: int64"
      ]
     },
     "execution_count": 10,
     "metadata": {},
     "output_type": "execute_result"
    }
   ],
   "source": [
    "dataset_full.isnull().sum()"
   ]
  },
  {
   "cell_type": "code",
   "execution_count": 11,
   "id": "287d8d4b",
   "metadata": {},
   "outputs": [
    {
     "data": {
      "text/plain": [
       "padecimiento\n",
       "C    72\n",
       "E    65\n",
       "P    17\n",
       "Name: count, dtype: int64"
      ]
     },
     "execution_count": 11,
     "metadata": {},
     "output_type": "execute_result"
    }
   ],
   "source": [
    "dataset_full['padecimiento'].value_counts()"
   ]
  },
  {
   "cell_type": "markdown",
   "id": "b6bdd02e",
   "metadata": {},
   "source": [
    "## Prueba para conocer si hay diferencias Significativas entre Control, Enfermo(SCA), Preclinico acerca del Diametro anteposterior del Mesencefalo DAPMES"
   ]
  },
  {
   "cell_type": "markdown",
   "id": "76110d84",
   "metadata": {},
   "source": [
    "## Opción 1: ANOVA de una vía (One-Way ANOVA) con scipy\n",
    "Esta opción se usa si tienes una variable dependiente continua y una categórica con varios niveles (grupos)."
   ]
  },
  {
   "cell_type": "code",
   "execution_count": 17,
   "id": "8a38e2ed",
   "metadata": {},
   "outputs": [],
   "source": [
    "C=dataset_full[dataset_full['padecimiento']=='C']['DAPMES'].values\n",
    "E=dataset_full[dataset_full['padecimiento']=='E']['DAPMES'].values\n",
    "P=dataset_full[dataset_full['padecimiento']=='P']['DAPMES'].values"
   ]
  },
  {
   "cell_type": "code",
   "execution_count": 18,
   "id": "a9d30fa6",
   "metadata": {},
   "outputs": [
    {
     "name": "stdout",
     "output_type": "stream",
     "text": [
      "Estadístico F: 122.7078\n",
      "Valor p: 0.0000\n"
     ]
    }
   ],
   "source": [
    "# Realizar el ANOVA\n",
    "f_stat, p_value = stats.f_oneway(C,E,P)\n",
    "\n",
    "print(f'Estadístico F: {f_stat:.4f}')\n",
    "print(f'Valor p: {p_value:.4f}')"
   ]
  },
  {
   "cell_type": "markdown",
   "id": "ca5c954a",
   "metadata": {},
   "source": [
    "###  Estadístico F (F-Statistic)\n",
    "\n",
    "El estadístico F es una medida que compara la variabilidad entre las medias de los grupos con la variabilidad dentro de los grupos. Su fórmula general es:\n",
    "\n",
    "F= Variabilidad entre grupos/ Variabilidad dentro de los grupos\n",
    "\n",
    "Valores altos de F sugieren que las medias de los grupos son muy diferentes entre sí, lo que indica una posible diferencia significativa.\n",
    "\n",
    "Valores bajos de F sugieren que las medias de los grupos no varían mucho más que la variabilidad aleatoria dentro de los grupos.\n",
    "En tu caso:\n",
    "\n",
    "### Valor p (p-value)\n",
    "\n",
    "El valor p indica la probabilidad de obtener un estadístico F tan extremo (o más) si la hipótesis nula es cierta. La hipótesis nula en ANOVA es que no hay diferencias significativas entre las medias de los grupos.\n",
    "\n",
    "Si p ≤ 0.05: Rechazamos la hipótesis nula, lo que sugiere que al menos un grupo es significativamente diferente.\n",
    "Si p > 0.05: No hay evidencia suficiente para rechazar la hipótesis nula, lo que sugiere que las diferencias entre las medias son probablemente debidas al azar.\n",
    "\n"
   ]
  },
  {
   "cell_type": "markdown",
   "id": "18ba5cc6",
   "metadata": {},
   "source": [
    "## Resumen del DAPMES\n",
    "\n",
    "### Estadístico F (F-Statistic)\n",
    "F = 122.7078\n",
    "\n",
    "Un valor alto del estadístico F indica que la variabilidad entre las medias de los grupos es mucho mayor que la variabilidad interna dentro de los grupos.\n",
    "Esto sugiere que las medias de los grupos son muy diferentes entre sí.\n",
    "\n",
    "### Valor p (p-value)\n",
    "\n",
    "p = 0.0000 (o muy cercano a 0)\n",
    "\n",
    "El valor p indica la probabilidad de obtener un estadístico F tan grande por azar si la hipótesis nula (H₀) es verdadera (es decir, si las medias de los grupos son iguales).\n",
    "Como p < 0.05, rechazamos la hipótesis nula. Esto sugiere que al menos un grupo es significativamente diferente de los demás.\n",
    "\n",
    "## Siguiente Paso\n",
    "\n",
    "Los resultados muestran que hay diferencias significativas entre las medias de los grupos. Ahora sabes que las medias no son todas iguales, pero el ANOVA no indica entre qué grupos hay diferencias.\n",
    "\n",
    "Siguiente paso: Prueba post hoc (Tukey HSD)\n",
    "Para identificar qué pares de grupos son diferentes, debes realizar una prueba post hoc como Tukey HSD. "
   ]
  },
  {
   "cell_type": "markdown",
   "id": "e9d0bcf4",
   "metadata": {},
   "source": [
    "## Usando la libreria stastmodel"
   ]
  },
  {
   "cell_type": "code",
   "execution_count": 20,
   "id": "f834d054",
   "metadata": {},
   "outputs": [
    {
     "name": "stdout",
     "output_type": "stream",
     "text": [
      "                  sum_sq     df           F        PR(>F)\n",
      "padecimiento  367.718320    2.0  122.707845  2.250979e-32\n",
      "Residual      226.250677  151.0         NaN           NaN\n"
     ]
    }
   ],
   "source": [
    "import statsmodels.api as sm\n",
    "from statsmodels.formula.api import ols\n",
    "\n",
    "# Definir el modelo (ANOVA de una vía)\n",
    "modelo = ols('DAPMES ~ padecimiento', data=dataset_full).fit()\n",
    "\n",
    "# Realizar el ANOVA\n",
    "anova_tabla = sm.stats.anova_lm(modelo, typ=2)\n",
    "\n",
    "print(anova_tabla)"
   ]
  },
  {
   "cell_type": "markdown",
   "id": "61f080b5",
   "metadata": {},
   "source": [
    "## Implementación de Tukey HSD en Python\n",
    "A continuación, te muestro cómo hacerlo utilizando statsmodels.\n",
    "\n",
    "Ejemplo: Prueba Tukey HSD"
   ]
  },
  {
   "cell_type": "code",
   "execution_count": 21,
   "id": "b5eb0e90",
   "metadata": {},
   "outputs": [
    {
     "name": "stdout",
     "output_type": "stream",
     "text": [
      "Multiple Comparison of Means - Tukey HSD, FWER=0.05 \n",
      "====================================================\n",
      "group1 group2 meandiff p-adj   lower   upper  reject\n",
      "----------------------------------------------------\n",
      "     C      E  -3.2726    0.0 -3.7683 -2.7769   True\n",
      "     C      P  -1.9035    0.0 -2.6848 -1.1222   True\n",
      "     E      P   1.3691 0.0002  0.5798  2.1584   True\n",
      "----------------------------------------------------\n"
     ]
    }
   ],
   "source": [
    "import pandas as pd\n",
    "from statsmodels.stats.multicomp import pairwise_tukeyhsd\n",
    "\n",
    "# Realizar la prueba Tukey HSD\n",
    "tukey = pairwise_tukeyhsd(endog=dataset_full['DAPMES'], groups=dataset_full['padecimiento'], alpha=0.05)\n",
    "\n",
    "# Mostrar los resultados\n",
    "print(tukey)\n"
   ]
  },
  {
   "cell_type": "markdown",
   "id": "6705bcc1",
   "metadata": {},
   "source": [
    "   Multiple Comparison of Means - Tukey HSD, FWER=0.05\n",
    "======================================================\n",
    "group1 group2 meandiff p-adj  lower  upper  reject\n",
    "------------------------------------------------------\n",
    "     A      B     5.00 0.743  -21.4  31.4  False\n",
    "     A      C   -20.00 0.032 -38.37 -1.63   True\n",
    "     B      C   -25.00 0.013 -44.04 -5.96   True\n",
    "------------------------------------------------------\n",
    "\n",
    "## Interpretación de la salida:\n",
    "meandiff: Diferencia entre las medias de los dos grupos comparados.\n",
    "p-adj: Valor p ajustado para cada comparación (usando Tukey HSD).\n",
    "reject: True si hay una diferencia significativa entre los dos grupos, False si no.\n",
    "En el ejemplo:\n",
    "\n",
    "No hay diferencias significativas entre los grupos A y B (reject = False).\n",
    "Sí hay diferencias significativas entre los grupos A y C (reject = True).\n",
    "También hay diferencias significativas entre B y C (reject = True).\n"
   ]
  },
  {
   "cell_type": "markdown",
   "id": "10179c31",
   "metadata": {},
   "source": [
    "## Prueba para conocer si hay diferencias Significativas entre Control, Enfermo(SCA), Preclinico acerca del Diámetro anteroposterior de protuberancia DAPP\n"
   ]
  },
  {
   "cell_type": "markdown",
   "id": "0f95df68",
   "metadata": {},
   "source": [
    "## Anova de una Vía DAPP"
   ]
  },
  {
   "cell_type": "code",
   "execution_count": 27,
   "id": "9ba483f8",
   "metadata": {},
   "outputs": [],
   "source": [
    "C=dataset_full[dataset_full['padecimiento']=='C']['DAPP'].values\n",
    "E=dataset_full[dataset_full['padecimiento']=='E']['DAPP'].values\n",
    "P=dataset_full[dataset_full['padecimiento']=='P']['DAPP'].values"
   ]
  },
  {
   "cell_type": "code",
   "execution_count": 28,
   "id": "00c280e7",
   "metadata": {},
   "outputs": [
    {
     "name": "stdout",
     "output_type": "stream",
     "text": [
      "Estadístico F: 0.7939\n",
      "Valor p: 0.4540\n"
     ]
    }
   ],
   "source": [
    "# Realizar el ANOVA\n",
    "f_stat, p_value = stats.f_oneway(C,E,P)\n",
    "\n",
    "print(f'Estadístico F: {f_stat:.4f}')\n",
    "print(f'Valor p: {p_value:.4f}')"
   ]
  },
  {
   "cell_type": "markdown",
   "id": "fa8922f6",
   "metadata": {},
   "source": [
    "Resumen:\n",
    "\n",
    "Estadístico F: 0.7939 → Baja relación entre la variabilidad entre y dentro de los grupos.\n",
    "\n",
    "Valor p: 0.4540 → No hay diferencias significativas entre las medias de los grupos."
   ]
  },
  {
   "cell_type": "markdown",
   "id": "a47e1c73",
   "metadata": {},
   "source": [
    "## ANOVA y TUKEY HSD con Stastmodel"
   ]
  },
  {
   "cell_type": "code",
   "execution_count": 29,
   "id": "947b75f9",
   "metadata": {},
   "outputs": [
    {
     "name": "stdout",
     "output_type": "stream",
     "text": [
      "                    sum_sq     df         F   PR(>F)\n",
      "padecimiento  5.369438e+04    2.0  0.793891  0.45396\n",
      "Residual      5.106402e+06  151.0       NaN      NaN\n"
     ]
    }
   ],
   "source": [
    "# Definir el modelo (ANOVA de una vía)\n",
    "modelo = ols('DAPP ~ padecimiento', data=dataset_full).fit()\n",
    "\n",
    "# Realizar el ANOVA\n",
    "anova_tabla = sm.stats.anova_lm(modelo, typ=2)\n",
    "\n",
    "print(anova_tabla)"
   ]
  },
  {
   "cell_type": "code",
   "execution_count": 31,
   "id": "70adf54e",
   "metadata": {},
   "outputs": [
    {
     "name": "stdout",
     "output_type": "stream",
     "text": [
      "  Multiple Comparison of Means - Tukey HSD, FWER=0.05  \n",
      "=======================================================\n",
      "group1 group2 meandiff p-adj    lower    upper   reject\n",
      "-------------------------------------------------------\n",
      "     C      E -38.0958 0.4486 -112.5714  36.3799  False\n",
      "     C      P -34.5749 0.7655 -151.9514  82.8016  False\n",
      "     E      P   3.5209 0.9973 -115.0567 122.0985  False\n",
      "-------------------------------------------------------\n"
     ]
    }
   ],
   "source": [
    "# Realizar la prueba Tukey HSD\n",
    "tukey = pairwise_tukeyhsd(endog=dataset_full['DAPP'], groups=dataset_full['padecimiento'], alpha=0.05)\n",
    "\n",
    "# Mostrar los resultados\n",
    "print(tukey)\n"
   ]
  },
  {
   "cell_type": "markdown",
   "id": "27022313",
   "metadata": {},
   "source": [
    "### Resumen \n",
    "\n",
    "Lamentablemente DAPP no nos va servir segun el ANOVA una VIA y lo confirma el Tukey HSD"
   ]
  },
  {
   "cell_type": "markdown",
   "id": "654dc1e4",
   "metadata": {},
   "source": [
    "## Prueba para conocer si hay diferencias Significativas entre Control, Enfermo(SCA), Preclinico acerca del Diámetro anteroposterior de médula cervical a nivel de C2 DAPM"
   ]
  },
  {
   "cell_type": "markdown",
   "id": "03fb7b0e",
   "metadata": {},
   "source": [
    "### Anova"
   ]
  },
  {
   "cell_type": "code",
   "execution_count": 42,
   "id": "2158a66e",
   "metadata": {},
   "outputs": [],
   "source": [
    "C=dataset_full[dataset_full['padecimiento']=='C']['DAPM'].values\n",
    "E=dataset_full[dataset_full['padecimiento']=='E']['DAPM'].values\n",
    "P=dataset_full[dataset_full['padecimiento']=='P']['DAPM'].values"
   ]
  },
  {
   "cell_type": "code",
   "execution_count": 43,
   "id": "57313a9f",
   "metadata": {},
   "outputs": [
    {
     "name": "stdout",
     "output_type": "stream",
     "text": [
      "Estadístico F: 67.0891\n",
      "Valor p: 0.0000\n"
     ]
    }
   ],
   "source": [
    "# Realizar el ANOVA\n",
    "f_stat, p_value = stats.f_oneway(C,E,P)\n",
    "\n",
    "print(f'Estadístico F: {f_stat:.4f}')\n",
    "print(f'Valor p: {p_value:.4f}')"
   ]
  },
  {
   "cell_type": "markdown",
   "id": "741d1621",
   "metadata": {},
   "source": []
  },
  {
   "cell_type": "markdown",
   "id": "f17606bc",
   "metadata": {},
   "source": [
    "## ANOVA y TUKEY HSD con Stastmodel DAPM"
   ]
  },
  {
   "cell_type": "code",
   "execution_count": 38,
   "id": "297543ce",
   "metadata": {},
   "outputs": [
    {
     "name": "stdout",
     "output_type": "stream",
     "text": [
      "                  sum_sq     df          F        PR(>F)\n",
      "padecimiento  112.022405    2.0  67.089086  1.417360e-21\n",
      "Residual      126.066580  151.0        NaN           NaN\n"
     ]
    }
   ],
   "source": [
    "# Definir el modelo (ANOVA de una vía)\n",
    "modelo = ols('DAPM ~ padecimiento', data=dataset_full).fit()\n",
    "\n",
    "# Realizar el ANOVA\n",
    "anova_tabla = sm.stats.anova_lm(modelo, typ=2)\n",
    "\n",
    "print(anova_tabla)"
   ]
  },
  {
   "cell_type": "code",
   "execution_count": 39,
   "id": "d9e60546",
   "metadata": {},
   "outputs": [
    {
     "name": "stdout",
     "output_type": "stream",
     "text": [
      "Multiple Comparison of Means - Tukey HSD, FWER=0.05 \n",
      "====================================================\n",
      "group1 group2 meandiff p-adj   lower   upper  reject\n",
      "----------------------------------------------------\n",
      "     C      E  -1.8109    0.0 -2.1809 -1.4408   True\n",
      "     C      P  -0.8579 0.0019 -1.4411 -0.2747   True\n",
      "     E      P    0.953 0.0005  0.3638  1.5422   True\n",
      "----------------------------------------------------\n"
     ]
    }
   ],
   "source": [
    "# Realizar la prueba Tukey HSD\n",
    "tukey = pairwise_tukeyhsd(endog=dataset_full['DAPM'], groups=dataset_full['padecimiento'], alpha=0.05)\n",
    "\n",
    "# Mostrar los resultados\n",
    "print(tukey)"
   ]
  },
  {
   "cell_type": "markdown",
   "id": "871ff0a6",
   "metadata": {},
   "source": [
    "Exelente por parte del DAPM "
   ]
  },
  {
   "cell_type": "markdown",
   "id": "05fe0eac",
   "metadata": {},
   "source": [
    "## Prueba para conocer si hay diferencias Significativas entre Control, Enfermo(SCA), Preclinico acerca del  DAPCM"
   ]
  },
  {
   "cell_type": "code",
   "execution_count": null,
   "id": "86147844",
   "metadata": {},
   "outputs": [],
   "source": [
    "C=dataset_full[dataset_full['padecimiento']=='C']['DAPCM'].values\n",
    "E=dataset_full[dataset_full['padecimiento']=='E']['DAPCM'].values\n",
    "P=dataset_full[dataset_full['padecimiento']=='P']['DAPCM'].values"
   ]
  },
  {
   "cell_type": "code",
   "execution_count": null,
   "id": "97fbd0d5",
   "metadata": {},
   "outputs": [],
   "source": [
    "# Realizar el ANOVA\n",
    "f_stat, p_value = stats.f_oneway(C,E,P)\n",
    "\n",
    "print(f'Estadístico F: {f_stat:.4f}')\n",
    "print(f'Valor p: {p_value:.4f}')"
   ]
  },
  {
   "cell_type": "markdown",
   "id": "5bdc471c",
   "metadata": {},
   "source": [
    "### Estadístico F (F-Statistic)\n",
    "F = 0.2803 \n",
    "\n",
    "Un valor bajo del estadístico F indica que la variabilidad entre las medias de los grupos es similar (o menor) que la variabilidad interna dentro de los grupos.\n",
    "Esto sugiere que las diferencias entre las medias de los grupos son pequeñas o inexistentes.\n",
    "\n",
    "### Valor p (p-value)\n",
    "\n",
    "p = 0.7560:\n",
    "\n",
    "El valor p representa la probabilidad de observar un estadístico F tan bajo (o más extremo) si la hipótesis nula (H₀) es cierta.\n",
    "\n",
    "\n",
    "En este caso, la hipótesis nula establece que las medias de los grupos son iguales.\n",
    "p > 0.05\n",
    "\n",
    "\n",
    "\n",
    "Como p = 0.7560 es mucho mayor que 0.05, no rechazamos la hipótesis nula.\n",
    "No hay evidencia estadística suficiente para afirmar que existen diferencias significativas entre las medias de los grupos."
   ]
  },
  {
   "cell_type": "code",
   "execution_count": 45,
   "id": "2071e270",
   "metadata": {},
   "outputs": [
    {
     "name": "stdout",
     "output_type": "stream",
     "text": [
      "                  sum_sq     df         F    PR(>F)\n",
      "padecimiento    1.022315    2.0  0.280274  0.755969\n",
      "Residual      275.390862  151.0       NaN       NaN\n"
     ]
    }
   ],
   "source": [
    "#STASTMODEL\n",
    "# Definir el modelo (ANOVA de una vía)\n",
    "modelo = ols('DAPCM ~ padecimiento', data=dataset_full).fit()\n",
    "\n",
    "# Realizar el ANOVA\n",
    "anova_tabla = sm.stats.anova_lm(modelo, typ=2)\n",
    "\n",
    "print(anova_tabla)"
   ]
  },
  {
   "cell_type": "code",
   "execution_count": 46,
   "id": "4014ab07",
   "metadata": {},
   "outputs": [
    {
     "name": "stdout",
     "output_type": "stream",
     "text": [
      "Multiple Comparison of Means - Tukey HSD, FWER=0.05\n",
      "===================================================\n",
      "group1 group2 meandiff p-adj   lower  upper  reject\n",
      "---------------------------------------------------\n",
      "     C      E  -0.0785 0.9383 -0.6255 0.4684  False\n",
      "     C      P   0.1944 0.8548 -0.6676 1.0564  False\n",
      "     E      P   0.2729  0.739 -0.5979 1.1437  False\n",
      "---------------------------------------------------\n"
     ]
    }
   ],
   "source": [
    "# Realizar la prueba Tukey HSD\n",
    "tukey = pairwise_tukeyhsd(endog=dataset_full['DAPCM'], groups=dataset_full['padecimiento'], alpha=0.05)\n",
    "\n",
    "# Mostrar los resultados\n",
    "print(tukey)"
   ]
  },
  {
   "cell_type": "markdown",
   "id": "7bc161cb",
   "metadata": {},
   "source": [
    "## DAPCM tampoco es útil "
   ]
  },
  {
   "cell_type": "code",
   "execution_count": 49,
   "id": "922d1846",
   "metadata": {},
   "outputs": [
    {
     "data": {
      "text/plain": [
       "Index(['No', 'Nombres y Apellidos / IRM No?', 'Sexo', 'Edad', 'Edad.1',\n",
       "       'Tiempo', 'SARA', 'Fenotipo', 'DAPMES', 'DAPP', 'DAPM', 'DAPCM',\n",
       "       'CoDM (DAPCM / DAPM )', 'DAPIV', 'DHIV', 'DTIV', 'VIV', 'DAP', 'H',\n",
       "       'CAG Rango Alelo 1', 'CAG Rango Alelo 2', 'Unnamed: 21', 'padecimiento',\n",
       "       'Nombre y apellidos', 'CAG alelo 1', 'CAG alelo 2'],\n",
       "      dtype='object')"
      ]
     },
     "execution_count": 49,
     "metadata": {},
     "output_type": "execute_result"
    }
   ],
   "source": [
    "dataset_full.columns"
   ]
  },
  {
   "cell_type": "markdown",
   "id": "29e655f5",
   "metadata": {},
   "source": [
    "## Pruebas más directas para las otras variables "
   ]
  },
  {
   "cell_type": "markdown",
   "id": "883e3b45",
   "metadata": {},
   "source": [
    "## DAPIV"
   ]
  },
  {
   "cell_type": "code",
   "execution_count": 50,
   "id": "0d930d1d",
   "metadata": {},
   "outputs": [
    {
     "name": "stdout",
     "output_type": "stream",
     "text": [
      "                   sum_sq     df          F    PR(>F)\n",
      "padecimiento   177.956959    2.0  11.442473  0.000024\n",
      "Residual      1174.199839  151.0        NaN       NaN\n"
     ]
    }
   ],
   "source": [
    "#STASTMODEL\n",
    "# Definir el modelo (ANOVA de una vía)\n",
    "modelo = ols('DAPIV ~ padecimiento', data=dataset_full).fit()\n",
    "\n",
    "# Realizar el ANOVA\n",
    "anova_tabla = sm.stats.anova_lm(modelo, typ=2)\n",
    "\n",
    "print(anova_tabla)"
   ]
  },
  {
   "cell_type": "code",
   "execution_count": 51,
   "id": "f6330a26",
   "metadata": {},
   "outputs": [
    {
     "name": "stdout",
     "output_type": "stream",
     "text": [
      "Multiple Comparison of Means - Tukey HSD, FWER=0.05\n",
      "===================================================\n",
      "group1 group2 meandiff p-adj   lower  upper  reject\n",
      "---------------------------------------------------\n",
      "     C      E   2.1479    0.0  1.0185 3.2772   True\n",
      "     C      P  -0.1412 0.9807 -1.9211 1.6387  False\n",
      "     E      P  -2.2891 0.0085 -4.0872 -0.491   True\n",
      "---------------------------------------------------\n"
     ]
    }
   ],
   "source": [
    "# Realizar la prueba Tukey HSD\n",
    "tukey = pairwise_tukeyhsd(endog=dataset_full['DAPIV'], groups=dataset_full['padecimiento'], alpha=0.05)\n",
    "\n",
    "# Mostrar los resultados\n",
    "print(tukey)"
   ]
  },
  {
   "cell_type": "markdown",
   "id": "15c98554",
   "metadata": {},
   "source": [
    "## DHIV"
   ]
  },
  {
   "cell_type": "code",
   "execution_count": 53,
   "id": "241f44ae",
   "metadata": {},
   "outputs": [
    {
     "name": "stdout",
     "output_type": "stream",
     "text": [
      "                   sum_sq     df         F   PR(>F)\n",
      "padecimiento    91.613815    2.0  3.942431  0.02143\n",
      "Residual      1754.461291  151.0       NaN      NaN\n"
     ]
    }
   ],
   "source": [
    "#STASTMODEL\n",
    "# Definir el modelo (ANOVA de una vía)\n",
    "modelo = ols('DHIV ~ padecimiento', data=dataset_full).fit()\n",
    "\n",
    "# Realizar el ANOVA\n",
    "anova_tabla = sm.stats.anova_lm(modelo, typ=2)\n",
    "\n",
    "print(anova_tabla)"
   ]
  },
  {
   "cell_type": "code",
   "execution_count": 54,
   "id": "8ac578bc",
   "metadata": {},
   "outputs": [
    {
     "name": "stdout",
     "output_type": "stream",
     "text": [
      "Multiple Comparison of Means - Tukey HSD, FWER=0.05\n",
      "===================================================\n",
      "group1 group2 meandiff p-adj   lower  upper  reject\n",
      "---------------------------------------------------\n",
      "     C      E   1.3287  0.062 -0.0518 2.7091  False\n",
      "     C      P  -0.8084  0.654 -2.9841 1.3673  False\n",
      "     E      P  -2.1371 0.0586  -4.335 0.0609  False\n",
      "---------------------------------------------------\n"
     ]
    }
   ],
   "source": [
    "# Realizar la prueba Tukey HSD\n",
    "tukey = pairwise_tukeyhsd(endog=dataset_full['DHIV'], groups=dataset_full['padecimiento'], alpha=0.05)\n",
    "\n",
    "# Mostrar los resultados\n",
    "print(tukey)"
   ]
  },
  {
   "cell_type": "markdown",
   "id": "621f41ac",
   "metadata": {},
   "source": [
    "### no sirve el DHIV"
   ]
  },
  {
   "cell_type": "markdown",
   "id": "c2e8a7d7",
   "metadata": {},
   "source": [
    "## DTIV"
   ]
  },
  {
   "cell_type": "code",
   "execution_count": 55,
   "id": "d7aeb81d",
   "metadata": {},
   "outputs": [
    {
     "name": "stdout",
     "output_type": "stream",
     "text": [
      "                   sum_sq     df          F        PR(>F)\n",
      "padecimiento  1440.790269    2.0  64.556052  5.485331e-21\n",
      "Residual      1685.042089  151.0        NaN           NaN\n"
     ]
    }
   ],
   "source": [
    "#STASTMODEL\n",
    "# Definir el modelo (ANOVA de una vía)\n",
    "modelo = ols('DTIV ~ padecimiento', data=dataset_full).fit()\n",
    "\n",
    "# Realizar el ANOVA\n",
    "anova_tabla = sm.stats.anova_lm(modelo, typ=2)\n",
    "\n",
    "print(anova_tabla)"
   ]
  },
  {
   "cell_type": "code",
   "execution_count": 56,
   "id": "c1663ac0",
   "metadata": {},
   "outputs": [
    {
     "name": "stdout",
     "output_type": "stream",
     "text": [
      "Multiple Comparison of Means - Tukey HSD, FWER=0.05\n",
      "===================================================\n",
      "group1 group2 meandiff p-adj   lower  upper  reject\n",
      "---------------------------------------------------\n",
      "     C      E   1.3287  0.062 -0.0518 2.7091  False\n",
      "     C      P  -0.8084  0.654 -2.9841 1.3673  False\n",
      "     E      P  -2.1371 0.0586  -4.335 0.0609  False\n",
      "---------------------------------------------------\n"
     ]
    }
   ],
   "source": [
    "# Realizar la prueba Tukey HSD\n",
    "tukey = pairwise_tukeyhsd(endog=dataset_full['DHIV'], groups=dataset_full['padecimiento'], alpha=0.05)\n",
    "\n",
    "# Mostrar los resultados\n",
    "print(tukey)"
   ]
  },
  {
   "cell_type": "markdown",
   "id": "f0211791",
   "metadata": {},
   "source": [
    "## DAP y VIV no funcionaron por problema de el tipo de datos "
   ]
  },
  {
   "cell_type": "markdown",
   "id": "9a959d34",
   "metadata": {},
   "source": [
    "## ANOVA de DOS VIAS SEXO PADECIMIENTO"
   ]
  },
  {
   "cell_type": "code",
   "execution_count": 59,
   "id": "1095c915",
   "metadata": {},
   "outputs": [],
   "source": [
    "import pandas as pd\n",
    "import statsmodels.api as sm\n",
    "from statsmodels.formula.api import ols\n"
   ]
  },
  {
   "cell_type": "code",
   "execution_count": 61,
   "id": "97b428fa",
   "metadata": {},
   "outputs": [
    {
     "name": "stdout",
     "output_type": "stream",
     "text": [
      "                       sum_sq     df           F        PR(>F)\n",
      "Sexo                 2.446011    1.0    1.624640  2.044436e-01\n",
      "padecimiento       366.161107    2.0  121.602041  5.774534e-32\n",
      "Sexo:padecimiento    0.980102    2.0    0.325492  7.226877e-01\n",
      "Residual           222.824564  148.0         NaN           NaN\n"
     ]
    }
   ],
   "source": [
    "# Definir el modelo de ANOVA de dos vías\n",
    "modelo = ols('DAPMES ~ Sexo + padecimiento + Sexo:padecimiento', data=dataset_full).fit()\n",
    "\n",
    "# Realizar ANOVA de dos vías\n",
    "anova_tabla = sm.stats.anova_lm(modelo, typ=2)\n",
    "\n",
    "# Mostrar los resultados\n",
    "print(anova_tabla)"
   ]
  },
  {
   "cell_type": "markdown",
   "id": "9c40f808",
   "metadata": {},
   "source": [
    "## Interpretación\n",
    "\n",
    "\n"
   ]
  },
  {
   "cell_type": "code",
   "execution_count": 64,
   "id": "b084e3e0",
   "metadata": {},
   "outputs": [],
   "source": [
    "#                          sum_sq    df         F    PR(>F)\n",
    "# C(Sexo)                 105.3333   1.0   0.3941   0.5410\n",
    "# C(Padecimiento)         784.6667   2.0   1.4713   0.2765\n",
    "# C(Sexo):C(Padecimiento) 245.3333   2.0   0.4594   0.6445\n",
    "# Residual               3201.0000  10.0      NaN      NaN\n"
   ]
  },
  {
   "cell_type": "markdown",
   "id": "3e740713",
   "metadata": {},
   "source": [
    "Interpretación de los Resultados:\n",
    "\n",
    "C(Sexo):\n",
    "\n",
    "\n",
    "El valor p = 0.5410 indica que el sexo no tiene un efecto significativo sobre la puntuación.\n",
    "C(Padecimiento):\n",
    "\n",
    "\n",
    "El valor p = 0.2765 sugiere que el tipo de padecimiento tampoco tiene un efecto significativo sobre la puntuación.\n",
    "Interacción (Sexo\n",
    "):\n",
    "\n",
    "\n",
    "El valor p = 0.6445 indica que no hay interacción significativa entre el sexo y el padecimiento. Es decir, el efecto de uno no depende del otro.\n",
    "\n",
    "\n",
    "Conclusión:\n",
    "No hay diferencias significativas en las puntuaciones entre los sexos o los padecimientos.\n",
    "Tampoco se observa una interacción significativa entre el sexo y el padecimiento.\n",
    "Prueba post hoc si es necesaria:\n",
    "Si alguno de los efectos hubiera sido significativo (p < 0.05), podrías aplicar una prueba Tukey HSD para identificar específicamente qué categorías difieren."
   ]
  },
  {
   "cell_type": "markdown",
   "id": "0f0d96f7",
   "metadata": {},
   "source": [
    "## Para este resultado se tiene que "
   ]
  },
  {
   "cell_type": "markdown",
   "id": "d8eeccb4",
   "metadata": {},
   "source": [
    "Resultados:\n",
    "\n",
    "Efecto del Sexo:\n",
    "Estadístico F = 1.6246\n",
    "Valor p = 0.2044\n",
    "\n",
    "Como el valor p > 0.05, no hay un efecto significativo del sexo sobre la variable dependiente (puntuación).\n",
    "Esto sugiere que las puntuaciones medias no difieren de manera significativa entre hombres (M) y mujeres (F).\n",
    "Efecto del Padecimiento:\n",
    "\n",
    "Estadístico F = 121.6020\n",
    "Valor p = 5.77e-32 (≈ 0.0000)\n",
    "\n",
    "El valor p < 0.05 indica que hay una diferencia significativa entre los diferentes tipos de padecimiento (C, E y P).\n",
    "Esto sugiere que las puntuaciones dependen significativamente del tipo de padecimiento.\n",
    "Interacción entre Sexo y Padecimiento:\n",
    "\n",
    "Estadístico F = 0.3255\n",
    "Valor p = 0.7227\n",
    "\n",
    "Como el valor p > 0.05, no hay una interacción significativa entre el sexo y el padecimiento.\n",
    "Esto significa que el efecto del sexo no cambia en función del tipo de padecimiento. Por ejemplo, ser hombre o mujer no modifica cómo los diferentes padecimientos afectan las puntuaciones.\n",
    "\n",
    "Residual:\n",
    "El residual representa la variabilidad no explicada por los efectos principales ni la interacción.\n",
    "Esta variabilidad es el \"ruido\" o aleatoriedad que queda después de considerar los factores analizados.\n",
    "\n",
    "Conclusión:\n",
    "El sexo no tiene un efecto significativo sobre las puntuaciones.\n",
    "El tipo de padecimiento tiene un efecto significativo (p < 0.05), por lo que al menos un padecimiento tiene una media diferente.\n",
    "No hay interacción significativa entre el sexo y el tipo de padecimiento, lo que significa que ambos factores actúan de manera independiente."
   ]
  },
  {
   "cell_type": "markdown",
   "id": "db14279f",
   "metadata": {},
   "source": [
    "# Próximo paso:\n",
    "Dado que el tipo de padecimiento tiene un efecto significativo, puedes realizar una prueba post hoc (Tukey HSD) para ver qué pares de padecimientos tienen diferencias significativas. "
   ]
  },
  {
   "cell_type": "code",
   "execution_count": 67,
   "id": "2005a341",
   "metadata": {},
   "outputs": [
    {
     "name": "stdout",
     "output_type": "stream",
     "text": [
      "Multiple Comparison of Means - Tukey HSD, FWER=0.05 \n",
      "====================================================\n",
      "group1 group2 meandiff p-adj   lower   upper  reject\n",
      "----------------------------------------------------\n",
      "     C      E  -3.2726    0.0 -3.7683 -2.7769   True\n",
      "     C      P  -1.9035    0.0 -2.6848 -1.1222   True\n",
      "     E      P   1.3691 0.0002  0.5798  2.1584   True\n",
      "----------------------------------------------------\n"
     ]
    }
   ],
   "source": [
    "from statsmodels.stats.multicomp import pairwise_tukeyhsd\n",
    "\n",
    "# Realizar la prueba Tukey HSD para los padecimientos\n",
    "tukey = pairwise_tukeyhsd(endog=dataset_full['DAPMES'], groups=dataset_full['padecimiento'], alpha=0.05)\n",
    "\n",
    "# Mostrar los resultados\n",
    "print(tukey)"
   ]
  },
  {
   "cell_type": "markdown",
   "id": "6c8a5d62",
   "metadata": {},
   "source": [
    "# Interpretación de la Tabla:\n",
    "\n",
    "\n",
    "group1 y group2:\n",
    "\n",
    "\n",
    "Estos son los dos grupos comparados en cada fila. En tu caso, los grupos son los tipos de padecimiento: C, E y P.\n",
    "meandiff:\n",
    "\n",
    "\n",
    "Diferencia entre las medias de los dos grupos comparados.\n",
    "Por ejemplo, entre C y E, la diferencia es -3.2726, lo que indica que las puntuaciones del grupo C son menores que las del grupo E.\n",
    "\n",
    "\n",
    "p-adj:\n",
    "\n",
    "Valor p ajustado usando el método de Tukey para controlar el error de familia (FWER).\n",
    "Si p-adj < 0.05, la diferencia entre los dos grupos es significativa. En tu caso, todos los valores p son muy bajos (0.0 o 0.0002), indicando diferencias significativas entre los grupos.\n",
    "lower y upper:\n",
    "\n",
    "\n",
    "\n",
    "Intervalo de confianza del 95% para la diferencia entre las medias.\n",
    "Por ejemplo, para la comparación entre C y E, el intervalo es [-3.7683, -2.7769]. Como este intervalo no incluye el 0, confirma que hay una diferencia significativa.\n",
    "reject:\n",
    "\n",
    "True significa que la diferencia entre las medias es estadísticamente significativa (p < 0.05).\n",
    "False (no se da en tu tabla) indicaría que no hay diferencia significativa entre los dos grupos.\n",
    "Resultados Resumidos:\n",
    "C vs E:\n",
    "\n",
    "\n",
    "\n",
    "Diferencia significativa: El grupo C tiene una media más baja que el grupo E (p < 0.05).\n",
    "C vs P:\n",
    "\n",
    "\n",
    "\n",
    "Diferencia significativa: El grupo C tiene una media más baja que el grupo P (p < 0.05).\n",
    "E vs P:\n",
    "\n",
    "\n",
    "\n",
    "Diferencia significativa: El grupo E tiene una media mayor que el grupo P (p < 0.05).\n",
    "\n",
    "\n",
    "## Conclusión:\n",
    "\n",
    "\n",
    "Existen diferencias significativas entre todas las combinaciones de grupos:\n",
    "C es diferente tanto de E como de P.\n",
    "E también es diferente de P.\n",
    "Esto sugiere que los tres tipos de padecimiento tienen puntuaciones medias significativamente diferentes entre sí."
   ]
  },
  {
   "cell_type": "markdown",
   "id": "45a552a3",
   "metadata": {},
   "source": [
    "# LO MISMO SOBRE DAPM"
   ]
  },
  {
   "cell_type": "code",
   "execution_count": 69,
   "id": "9cebdd81",
   "metadata": {},
   "outputs": [
    {
     "name": "stdout",
     "output_type": "stream",
     "text": [
      "Multiple Comparison of Means - Tukey HSD, FWER=0.05 \n",
      "====================================================\n",
      "group1 group2 meandiff p-adj   lower   upper  reject\n",
      "----------------------------------------------------\n",
      "     C      E  -1.8109    0.0 -2.1809 -1.4408   True\n",
      "     C      P  -0.8579 0.0019 -1.4411 -0.2747   True\n",
      "     E      P    0.953 0.0005  0.3638  1.5422   True\n",
      "----------------------------------------------------\n"
     ]
    }
   ],
   "source": [
    "from statsmodels.stats.multicomp import pairwise_tukeyhsd\n",
    "\n",
    "# Realizar la prueba Tukey HSD para los padecimientos\n",
    "tukey = pairwise_tukeyhsd(endog=dataset_full['DAPM'], groups=dataset_full['padecimiento'], alpha=0.05)\n",
    "\n",
    "# Mostrar los resultados\n",
    "print(tukey)"
   ]
  },
  {
   "cell_type": "markdown",
   "id": "cea6987b",
   "metadata": {},
   "source": [
    "# Interpretación:\n",
    "\n",
    "group1 y group2:\n",
    "\n",
    "Los dos grupos comparados en cada fila: C, E y P (padecimientos).\n",
    "meandiff:\n",
    "\n",
    "Diferencia entre las medias de los dos grupos comparados.\n",
    "C vs E: -1.8109 → El grupo C tiene una media 1.81 puntos menor que el grupo E.\n",
    "C vs P: -0.8579 → El grupo C tiene una media 0.86 puntos menor que el grupo P.\n",
    "E vs P: 0.953 → El grupo E tiene una media 0.95 puntos mayor que el grupo P.\n",
    "\n",
    "### p-adj:\n",
    "\n",
    "Valor p ajustado para corregir el error de familia (FWER).\n",
    "Todos los valores son menores a 0.05, lo que indica que todas las diferencias son estadísticamente significativas.\n",
    "lower y upper:\n",
    "\n",
    "Intervalo de confianza del 95% para la diferencia entre medias. Si el intervalo no incluye el 0, la diferencia es significativa.\n",
    "Por ejemplo, para C vs E, el intervalo es [-2.1809, -1.4408], lo que confirma una diferencia significativa.\n",
    "\n",
    "\n",
    "### reject:\n",
    "\n",
    "True indica que la diferencia entre las medias es estadísticamente significativa (p < 0.05).\n",
    "Resumen de Resultados:\n",
    "C vs E:\n",
    "\n",
    "La media del grupo C es significativamente menor que la del grupo E.\n",
    "C vs P:\n",
    "\n",
    "La media del grupo C es significativamente menor que la del grupo P.\n",
    "E vs P:\n",
    "\n",
    "La media del grupo E es significativamente mayor que la del grupo P.\n",
    "\n",
    "\n",
    "### Conclusión:\n",
    "Todas las comparaciones son significativas: Las medias de los tres grupos (C, E, P) son diferentes entre sí.\n",
    "Estos resultados sugieren que cada tipo de padecimiento afecta las puntuaciones de manera diferente."
   ]
  }
 ],
 "metadata": {
  "kernelspec": {
   "display_name": "Python (scikit-learn)",
   "language": "python",
   "name": "scikit-learn"
  },
  "language_info": {
   "codemirror_mode": {
    "name": "ipython",
    "version": 3
   },
   "file_extension": ".py",
   "mimetype": "text/x-python",
   "name": "python",
   "nbconvert_exporter": "python",
   "pygments_lexer": "ipython3",
   "version": "3.12.3"
  }
 },
 "nbformat": 4,
 "nbformat_minor": 5
}
