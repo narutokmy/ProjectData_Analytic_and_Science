{
 "cells": [
  {
   "cell_type": "markdown",
   "id": "546a46a3",
   "metadata": {},
   "source": [
    "### 1. Gráficos de Distribución\n",
    "\n",
    "Estos gráficos te ayudan a entender cómo se distribuyen los valores de una variable.\n",
    "Histograma\n",
    "\n",
    "    Uso: Visualizar la distribución de una variable numérica.\n",
    "\n",
    "    Librería: Matplotlib, Seaborn.\n",
    "\n",
    "    Ejemplo:"
   ]
  },
  {
   "cell_type": "code",
   "execution_count": null,
   "id": "47b10842",
   "metadata": {},
   "outputs": [],
   "source": [
    "import seaborn as sns\n",
    "import matplotlib.pyplot as plt\n",
    "\n",
    "sns.histplot(df['columna_numerica'], kde=True)\n",
    "plt.title('Distribución de la columna numérica')\n",
    "plt.show()"
   ]
  },
  {
   "cell_type": "markdown",
   "id": "96aae9f4",
   "metadata": {},
   "source": [
    "### Gráfico de Densidad (KDE)\n",
    "\n",
    "    Uso: Similar al histograma, pero suavizado.\n",
    "\n",
    "    Librería: Seaborn.\n",
    "\n",
    "    Ejemplo:"
   ]
  },
  {
   "cell_type": "code",
   "execution_count": null,
   "id": "3411b3f2",
   "metadata": {},
   "outputs": [],
   "source": [
    "sns.kdeplot(df['columna_numerica'])\n",
    "plt.title('Densidad de la columna numérica')\n",
    "plt.show()"
   ]
  },
  {
   "cell_type": "markdown",
   "id": "86d83754",
   "metadata": {},
   "source": [
    "### Boxplot (Diagrama de Caja)\n",
    "\n",
    "    Uso: Visualizar la distribución y detectar outliers.\n",
    "\n",
    "    Librería: Seaborn, Matplotlib.\n",
    "\n",
    "    Ejemplo:\n"
   ]
  },
  {
   "cell_type": "code",
   "execution_count": null,
   "id": "5bd1c13b",
   "metadata": {},
   "outputs": [],
   "source": [
    "sns.boxplot(x=df['columna_numerica'])\n",
    "plt.title('Boxplot de la columna numérica')\n",
    "plt.show()"
   ]
  },
  {
   "cell_type": "markdown",
   "id": "910a66f8",
   "metadata": {},
   "source": [
    "### 2. Gráficos de Relación\n",
    "\n",
    "Estos gráficos te ayudan a entender la relación entre dos o más variables.\n",
    "Scatter Plot (Gráfico de Dispersión)\n",
    "\n",
    "    Uso: Visualizar la relación entre dos variables numéricas.\n",
    "\n",
    "    Librería: Matplotlib, Seaborn.\n",
    "\n",
    "    Ejemplo:"
   ]
  },
  {
   "cell_type": "code",
   "execution_count": null,
   "id": "2c94e1dd",
   "metadata": {},
   "outputs": [],
   "source": [
    "sns.scatterplot(x=df['columna1'], y=df['columna2'])\n",
    "plt.title('Relación entre columna1 y columna2')\n",
    "plt.show()"
   ]
  },
  {
   "cell_type": "markdown",
   "id": "f7b23a6d",
   "metadata": {},
   "source": [
    "### Heatmap (Mapa de Calor)\n",
    "\n",
    "    Uso: Visualizar correlaciones entre variables numéricas.\n",
    "\n",
    "    Librería: Seaborn.\n",
    "\n",
    "    Ejemplo:"
   ]
  },
  {
   "cell_type": "code",
   "execution_count": null,
   "id": "1a38493e",
   "metadata": {},
   "outputs": [],
   "source": [
    "sns.heatmap(df.corr(), annot=True, cmap='coolwarm')\n",
    "plt.title('Mapa de Calor de Correlaciones')\n",
    "plt.show()"
   ]
  },
  {
   "cell_type": "markdown",
   "id": "b09321ff",
   "metadata": {},
   "source": [
    "### Pair Plot (Gráfico de Pares)\n",
    "\n",
    "    Uso: Visualizar relaciones entre múltiples variables numéricas.\n",
    "\n",
    "    Librería: Seaborn.\n",
    "\n",
    "    Ejemplo:"
   ]
  },
  {
   "cell_type": "code",
   "execution_count": null,
   "id": "e5f66cf3",
   "metadata": {},
   "outputs": [],
   "source": [
    "sns.pairplot(df)\n",
    "plt.show()"
   ]
  },
  {
   "cell_type": "markdown",
   "id": "1e6eda8c",
   "metadata": {},
   "source": [
    "## 3. Gráficos de Comparación\n",
    "\n",
    "Estos gráficos te ayudan a comparar categorías o grupos.\n",
    "Bar Plot (Gráfico de Barras)\n",
    "\n",
    "    Uso: Comparar valores entre categorías.\n",
    "\n",
    "    Librería: Matplotlib, Seaborn.\n",
    "\n",
    "    Ejemplo:"
   ]
  },
  {
   "cell_type": "code",
   "execution_count": null,
   "id": "19b32810",
   "metadata": {},
   "outputs": [],
   "source": [
    "sns.barplot(x=df['columna_categorica'], y=df['columna_numerica'])\n",
    "plt.title('Comparación de categorías')\n",
    "plt.show()"
   ]
  },
  {
   "cell_type": "markdown",
   "id": "74f9b90a",
   "metadata": {},
   "source": [
    "#### Count Plot (Gráfico de Conteo)\n",
    "\n",
    "    Uso: Contar la frecuencia de categorías.\n",
    "\n",
    "    Librería: Seaborn.\n",
    "\n",
    "    Ejemplo:"
   ]
  },
  {
   "cell_type": "code",
   "execution_count": null,
   "id": "af217963",
   "metadata": {},
   "outputs": [],
   "source": [
    "sns.countplot(x=df['columna_categorica'])\n",
    "plt.title('Frecuencia de categorías')\n",
    "plt.show()"
   ]
  },
  {
   "cell_type": "markdown",
   "id": "84bbe7e6",
   "metadata": {},
   "source": [
    "#### Violin Plot\n",
    "\n",
    "    Uso: Combinar un boxplot con un gráfico de densidad.\n",
    "\n",
    "    Librería: Seaborn.\n",
    "\n",
    "    Ejemplo:"
   ]
  },
  {
   "cell_type": "code",
   "execution_count": null,
   "id": "2fe89e2f",
   "metadata": {},
   "outputs": [],
   "source": [
    "sns.violinplot(x=df['columna_categorica'], y=df['columna_numerica'])\n",
    "plt.title('Violin Plot')\n",
    "plt.show()"
   ]
  },
  {
   "cell_type": "markdown",
   "id": "676560ab",
   "metadata": {},
   "source": [
    "## 4. Gráficos de Composición\n",
    "\n",
    "Estos gráficos te ayudan a entender cómo se componen los datos.\n",
    "Pie Chart (Gráfico de Torta)\n",
    "\n",
    "    Uso: Mostrar proporciones de categorías.\n",
    "\n",
    "    Librería: Matplotlib.\n",
    "\n",
    "    Ejemplo:"
   ]
  },
  {
   "cell_type": "code",
   "execution_count": null,
   "id": "ca085f75",
   "metadata": {},
   "outputs": [],
   "source": [
    "df['columna_categorica'].value_counts().plot.pie(autopct='%1.1f%%')\n",
    "plt.title('Proporciones de categorías')\n",
    "plt.show()"
   ]
  },
  {
   "cell_type": "markdown",
   "id": "4d9836e5",
   "metadata": {},
   "source": [
    "#### Stacked Bar Plot (Gráfico de Barras Apiladas)\n",
    "\n",
    "    Uso: Mostrar la composición de categorías dentro de grupos.\n",
    "\n",
    "    Librería: Matplotlib, Seaborn.\n",
    "\n",
    "    Ejemplo:"
   ]
  },
  {
   "cell_type": "code",
   "execution_count": null,
   "id": "f63402a8",
   "metadata": {},
   "outputs": [],
   "source": [
    "df.groupby(['columna1', 'columna2']).size().unstack().plot(kind='bar', stacked=True)\n",
    "plt.title('Barras Apiladas')\n",
    "plt.show()"
   ]
  },
  {
   "cell_type": "markdown",
   "id": "99b42c6c",
   "metadata": {},
   "source": [
    "## 5. Gráficos de Tendencias\n",
    "\n",
    "Estos gráficos te ayudan a visualizar cambios a lo largo del tiempo.\n",
    "Line Plot (Gráfico de Líneas)\n",
    "\n",
    "    Uso: Visualizar tendencias a lo largo del tiempo.\n",
    "\n",
    "    Librería: Matplotlib, Seaborn.\n",
    "\n",
    "    Ejemplo:"
   ]
  },
  {
   "cell_type": "code",
   "execution_count": null,
   "id": "c7e41f44",
   "metadata": {},
   "outputs": [],
   "source": [
    "sns.lineplot(x=df['fecha'], y=df['columna_numerica'])\n",
    "plt.title('Tendencia a lo largo del tiempo')\n",
    "plt.show()"
   ]
  },
  {
   "cell_type": "markdown",
   "id": "285d240c",
   "metadata": {},
   "source": [
    "## 6. Gráficos Avanzados\n",
    "PairGrid (Gráfico de Pares Personalizado)\n",
    "\n",
    "    Uso: Visualizar relaciones entre múltiples variables con personalización.\n",
    "\n",
    "    Librería: Seaborn.\n",
    "\n",
    "    Ejemplo:"
   ]
  },
  {
   "cell_type": "code",
   "execution_count": null,
   "id": "d995af5a",
   "metadata": {},
   "outputs": [],
   "source": [
    "g = sns.PairGrid(df)\n",
    "g.map_upper(sns.scatterplot)\n",
    "g.map_lower(sns.kdeplot)\n",
    "g.map_diag(sns.histplot)\n",
    "plt.show()"
   ]
  },
  {
   "cell_type": "markdown",
   "id": "2b09d4c8",
   "metadata": {},
   "source": [
    "#### FacetGrid (Gráficos Multiples)\n",
    "\n",
    "    Uso: Crear múltiples gráficos basados en categorías.\n",
    "\n",
    "    Librería: Seaborn.\n",
    "\n",
    "    Ejemplo:"
   ]
  },
  {
   "cell_type": "code",
   "execution_count": null,
   "id": "8d833add",
   "metadata": {},
   "outputs": [],
   "source": [
    "g = sns.FacetGrid(df, col='columna_categorica')\n",
    "g.map(sns.scatterplot, 'columna1', 'columna2')\n",
    "plt.show()"
   ]
  },
  {
   "cell_type": "markdown",
   "id": "66e70622",
   "metadata": {},
   "source": [
    "## Resumen de Librerías Recomendadas\n",
    "\n",
    "    Matplotlib: Para gráficos básicos y personalizables.\n",
    "\n",
    "    Seaborn: Para gráficos estadísticos y más atractivos visualmente.\n",
    "\n",
    "    Plotly: Para gráficos interactivos.\n",
    "\n",
    "    Pandas: Integración directa con DataFrames para gráficos simples."
   ]
  }
 ],
 "metadata": {
  "kernelspec": {
   "display_name": "Python3(Dataproject)",
   "language": "python",
   "name": "dataprojec"
  },
  "language_info": {
   "codemirror_mode": {
    "name": "ipython",
    "version": 3
   },
   "file_extension": ".py",
   "mimetype": "text/x-python",
   "name": "python",
   "nbconvert_exporter": "python",
   "pygments_lexer": "ipython3",
   "version": "3.12.3"
  }
 },
 "nbformat": 4,
 "nbformat_minor": 5
}
